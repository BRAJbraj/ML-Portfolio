{
  "nbformat": 4,
  "nbformat_minor": 0,
  "metadata": {
    "colab": {
      "provenance": []
    },
    "kernelspec": {
      "name": "python3",
      "display_name": "Python 3"
    },
    "language_info": {
      "name": "python"
    }
  },
  "cells": [
    {
      "cell_type": "code",
      "execution_count": 158,
      "metadata": {
        "id": "ehu3pe41YhGm"
      },
      "outputs": [],
      "source": [
        "import pandas as pd\n",
        "from sklearn.model_selection import train_test_split,cross_val_score\n",
        "from sklearn.ensemble import RandomForestClassifier\n",
        "from sklearn.linear_model import LogisticRegression\n",
        "from sklearn.metrics import  roc_auc_score,classification_report\n",
        "\n"
      ]
    },
    {
      "cell_type": "code",
      "source": [
        "df_original=pd.read_csv(\"WA_Fn-UseC_-Telco-Customer-Churn.csv\")\n",
        "df=df_original.copy()\n",
        "\n",
        "# Replace whitespace or empty strings with NaN\n",
        "df[\"TotalCharges\"] = pd.to_numeric(df[\"TotalCharges\"], errors='coerce')\n",
        "\n",
        "# Drop rows where `TotalCharges` is NaN\n",
        "df = df.dropna(subset=[\"TotalCharges\"])\n",
        "\n",
        "df[\"Churn\"]=df[\"Churn\"].map({'No':0, \"Yes\":1})\n",
        "# Target\n",
        "y=df['Churn'].copy()\n",
        "\n",
        "# Deciding Factors\n",
        "deciding_factors = ['Partner', 'Dependents', 'OnlineSecurity', 'OnlineBackup',\n",
        "                    'DeviceProtection', 'TechSupport', 'Contract', 'PaperlessBilling',\n",
        "                    'PaymentMethod', 'tenure', 'MonthlyCharges', 'TotalCharges']\n",
        "\n",
        "X=df[deciding_factors].copy()\n",
        "\n",
        "\n",
        "\n",
        "\n",
        "#print(X[\"TotalCharges\"]).dtype\n",
        "# Encoding\n",
        "cat_factors = ['Partner', 'Dependents', 'OnlineSecurity', 'OnlineBackup', 'DeviceProtection', 'TechSupport', 'Contract', 'PaperlessBilling', 'PaymentMethod']\n",
        "num_factors = ['tenure', 'MonthlyCharges', 'TotalCharges']\n",
        "\n",
        "# Dropna\n",
        "X=X.dropna()\n",
        "# One-hot encode multi-category vars (e.g., Contract, PaymentMethod)\n",
        "X_encoded = pd.get_dummies(X, columns=cat_factors, drop_first=True) # Encoded features\n",
        "\n",
        "print(X_encoded.columns)"
      ],
      "metadata": {
        "id": "Bl1gu-BkYp5b",
        "colab": {
          "base_uri": "https://localhost:8080/"
        },
        "outputId": "91e418bb-eb97-485f-e41b-a6296c32ccee"
      },
      "execution_count": 159,
      "outputs": [
        {
          "output_type": "stream",
          "name": "stdout",
          "text": [
            "Index(['tenure', 'MonthlyCharges', 'TotalCharges', 'Partner_Yes',\n",
            "       'Dependents_Yes', 'OnlineSecurity_No internet service',\n",
            "       'OnlineSecurity_Yes', 'OnlineBackup_No internet service',\n",
            "       'OnlineBackup_Yes', 'DeviceProtection_No internet service',\n",
            "       'DeviceProtection_Yes', 'TechSupport_No internet service',\n",
            "       'TechSupport_Yes', 'Contract_One year', 'Contract_Two year',\n",
            "       'PaperlessBilling_Yes', 'PaymentMethod_Credit card (automatic)',\n",
            "       'PaymentMethod_Electronic check', 'PaymentMethod_Mailed check'],\n",
            "      dtype='object')\n"
          ]
        }
      ]
    },
    {
      "cell_type": "code",
      "source": [
        "# X_test_final_set, y_test_final_set --> they will be used for final testing and model evaluation\n",
        "X_train,X_test_final_set, y_train, y_test_final_set=train_test_split(X_encoded,y, test_size=0.2, random_state=42, stratify=y,shuffle=True)\n",
        "\n",
        "\n",
        "# Dividing X_train,y_train into actual training set and development test set\n",
        "X_train_actual,X_test_dev_set, y_train_actual, y_test_dev_set=train_test_split(X_train,y_train, test_size=0.2, random_state=42, stratify=y_train,shuffle=True)\n",
        "\n",
        "\n",
        "X_train_actual.isnull().sum()\n",
        "X_train_actual\n",
        "\n",
        "from sklearn.preprocessing import StandardScaler\n",
        "\n",
        "\n",
        "scaler = StandardScaler()\n",
        "\n",
        "# Fit and transform the training data\n",
        "X_train_scaled = scaler.fit_transform(X_train_actual)\n",
        "X_test_dev_set_scaled=scaler.transform(X_test_dev_set) # Use this at development stage\n",
        "X_test_final_set_scaled=scaler.transform(X_test_final_set)  # Use this for final evaluation"
      ],
      "metadata": {
        "id": "-DJHlQ0CY0Ai"
      },
      "execution_count": 160,
      "outputs": []
    },
    {
      "cell_type": "code",
      "source": [
        "from sklearn.linear_model import LogisticRegression\n",
        "\n",
        "# Modeling\n",
        "final_model = LogisticRegression(\n",
        "    C=0.010022268827315503,      # Inverse regularization strength (small value means stronger regularization)\n",
        "    penalty='l1',                 # L1 penalty for sparsity (good for feature selection)\n",
        "    solver='liblinear',           # Suitable for L1 and smaller datasets\n",
        "    class_weight='balanced'       # Handles class imbalance, which aligns with your recall focus\n",
        ")                                                                                                                 # This is the best model so far.\n",
        "\n",
        "# Fit the model (ensure X_train_scaled and y_train_actual are defined and preprocessed)\n",
        "final_model.fit(X_train_scaled, y_train_actual)\n",
        "scores = cross_val_score(final_model, X_train_scaled,y_train_actual, cv=5)"
      ],
      "metadata": {
        "id": "ejw7DHCxY32r"
      },
      "execution_count": 161,
      "outputs": []
    },
    {
      "cell_type": "code",
      "source": [
        "# Prediction\n",
        "y_pred = final_model.predict(X_test_final_set_scaled)\n",
        "y_pred_proba=final_model.predict_proba(X_test_final_set_scaled)[:,1]\n",
        "\n",
        "\n",
        "# Also for dev set\n",
        "y_pred_dev=final_model.predict(X_test_dev_set_scaled)\n",
        "y_pred_proba_dev=final_model.predict_proba(X_test_dev_set_scaled)[:,1]\n",
        "print(classification_report(y_test_dev_set,y_pred_dev))\n",
        "print(roc_auc_score(y_test_dev_set,y_pred_proba_dev))\n",
        "\n",
        "#Eva;uation\n",
        "from sklearn.metrics import  roc_auc_score,classification_report\n",
        "print(classification_report(y_test_final_set,y_pred))\n",
        "print(roc_auc_score(y_test_final_set,y_pred_proba))"
      ],
      "metadata": {
        "colab": {
          "base_uri": "https://localhost:8080/"
        },
        "id": "yBoCrWSuY7j6",
        "outputId": "b8f92207-6535-4c9d-fb55-a88d5024f105"
      },
      "execution_count": 162,
      "outputs": [
        {
          "output_type": "stream",
          "name": "stdout",
          "text": [
            "              precision    recall  f1-score   support\n",
            "\n",
            "           0       0.91      0.69      0.79       826\n",
            "           1       0.49      0.82      0.61       299\n",
            "\n",
            "    accuracy                           0.73      1125\n",
            "   macro avg       0.70      0.76      0.70      1125\n",
            "weighted avg       0.80      0.73      0.74      1125\n",
            "\n",
            "0.8350899284944974\n",
            "              precision    recall  f1-score   support\n",
            "\n",
            "           0       0.91      0.67      0.77      1033\n",
            "           1       0.48      0.82      0.60       374\n",
            "\n",
            "    accuracy                           0.71      1407\n",
            "   macro avg       0.69      0.75      0.69      1407\n",
            "weighted avg       0.79      0.71      0.73      1407\n",
            "\n",
            "0.83158315689208\n"
          ]
        }
      ]
    },
    {
      "cell_type": "markdown",
      "source": [
        "***Interpretation***"
      ],
      "metadata": {
        "id": "EH-WSFGr9hLB"
      }
    },
    {
      "cell_type": "code",
      "source": [
        "final_model.coef_[0]\n",
        "Feature_importances=pd.DataFrame({'Feature':X_train_actual.columns,'Coefficient':final_model.coef_[0]})\n",
        "abs_coefficient=Feature_importances['Coefficient'].abs()\n",
        "Feature_importances['abs_coefficient']=abs_coefficient\n",
        "top_10_by_coefficient=Feature_importances.sort_values(by='abs_coefficient',ascending=False).head(10)\n",
        "top_10_list_by_coefficient=top_10_by_coefficient['Feature'].to_list()\n",
        "top_10_list_by_coefficient"
      ],
      "metadata": {
        "colab": {
          "base_uri": "https://localhost:8080/"
        },
        "id": "C_4YQSOTZN9M",
        "outputId": "0a59ec70-bd5a-4720-fbee-565f73c680c1"
      },
      "execution_count": 163,
      "outputs": [
        {
          "output_type": "execute_result",
          "data": {
            "text/plain": [
              "['tenure',\n",
              " 'MonthlyCharges',\n",
              " 'Contract_Two year',\n",
              " 'Contract_One year',\n",
              " 'PaymentMethod_Electronic check',\n",
              " 'OnlineSecurity_Yes',\n",
              " 'DeviceProtection_No internet service',\n",
              " 'TechSupport_Yes',\n",
              " 'PaperlessBilling_Yes',\n",
              " 'Dependents_Yes']"
            ]
          },
          "metadata": {},
          "execution_count": 163
        }
      ]
    },
    {
      "cell_type": "code",
      "source": [
        "# Permutation Importance\n",
        "from sklearn.inspection import permutation_importance\n",
        "import matplotlib.pyplot as plt\n",
        "\n",
        "result = permutation_importance(final_model, X_test_final_set_scaled,y_test_final_set, n_repeats=10, random_state=50, n_jobs=2, scoring='recall')\n",
        "result['importances_mean']\n",
        "\n",
        "permutation_importance_df=pd.DataFrame({'Feature':X_test_final_set.columns,'Importance':result['importances_mean']})\n",
        "print(permutation_importance_df)"
      ],
      "metadata": {
        "colab": {
          "base_uri": "https://localhost:8080/"
        },
        "id": "ej7R7FoGk5Op",
        "outputId": "113112f0-3138-417d-fd5a-87fb58b46fe3"
      },
      "execution_count": 164,
      "outputs": [
        {
          "output_type": "stream",
          "name": "stdout",
          "text": [
            "                                  Feature  Importance\n",
            "0                                  tenure    0.120856\n",
            "1                          MonthlyCharges    0.021390\n",
            "2                            TotalCharges    0.000000\n",
            "3                             Partner_Yes    0.000000\n",
            "4                          Dependents_Yes   -0.004011\n",
            "5      OnlineSecurity_No internet service   -0.007487\n",
            "6                      OnlineSecurity_Yes    0.006952\n",
            "7        OnlineBackup_No internet service    0.000000\n",
            "8                        OnlineBackup_Yes    0.000000\n",
            "9    DeviceProtection_No internet service   -0.021390\n",
            "10                   DeviceProtection_Yes    0.000000\n",
            "11        TechSupport_No internet service    0.000000\n",
            "12                        TechSupport_Yes    0.002941\n",
            "13                      Contract_One year   -0.014171\n",
            "14                      Contract_Two year    0.076738\n",
            "15                   PaperlessBilling_Yes    0.002406\n",
            "16  PaymentMethod_Credit card (automatic)    0.000000\n",
            "17         PaymentMethod_Electronic check   -0.005882\n",
            "18             PaymentMethod_Mailed check    0.000000\n"
          ]
        }
      ]
    },
    {
      "cell_type": "code",
      "source": [
        "\n",
        "absolute_value_importance=permutation_importance_df['Importance'].abs()\n",
        "permutation_importance_df['absolute_value_importance']=absolute_value_importance\n",
        "top_10_by_permutation_importance=permutation_importance_df.sort_values(by='absolute_value_importance',ascending=False).head(10)\n",
        "top_10_list_by_permutation_importance=top_10_by_permutation_importance['Feature'].to_list()\n",
        "top_10_list_by_permutation_importance"
      ],
      "metadata": {
        "colab": {
          "base_uri": "https://localhost:8080/"
        },
        "id": "bk-ZbUPO7BpK",
        "outputId": "14cd6f0f-e7f3-4ca9-c6fb-c37cd0a12ac6"
      },
      "execution_count": 165,
      "outputs": [
        {
          "output_type": "execute_result",
          "data": {
            "text/plain": [
              "['tenure',\n",
              " 'Contract_Two year',\n",
              " 'MonthlyCharges',\n",
              " 'DeviceProtection_No internet service',\n",
              " 'Contract_One year',\n",
              " 'OnlineSecurity_No internet service',\n",
              " 'OnlineSecurity_Yes',\n",
              " 'PaymentMethod_Electronic check',\n",
              " 'Dependents_Yes',\n",
              " 'TechSupport_Yes']"
            ]
          },
          "metadata": {},
          "execution_count": 165
        }
      ]
    },
    {
      "cell_type": "code",
      "source": [
        "import shap\n",
        "import numpy as np\n",
        "\n",
        "explainer = shap.LinearExplainer(final_model, X_train_scaled)\n",
        "shap_values=explainer.shap_values(X_test_final_set_scaled)\n",
        "absolute_shap_values=np.abs(shap_values)\n",
        "mean_shap_value=np.mean(absolute_shap_values,axis=0)\n",
        "shap_importance_df=pd.DataFrame({'Feature':X_test_final_set.columns,'Importance':mean_shap_value})\n",
        "#print(shap_importance_df.sort_values(by='Importance', ascending=False))\n",
        "top_10_by_shape_value=shap_importance_df.sort_values(by='Importance', ascending=False).head(10)\n",
        "print(top_10_by_shape_value.to_string(index=False))\n",
        "\n",
        "top_10_list_by_shape_value=top_10_by_shape_value['Feature'].to_list()\n",
        "top_10_list_by_shape_value"
      ],
      "metadata": {
        "colab": {
          "base_uri": "https://localhost:8080/"
        },
        "id": "Vp_oKw3vu9rz",
        "outputId": "536b6197-9b51-4b52-d29f-7e99a06152b7"
      },
      "execution_count": 166,
      "outputs": [
        {
          "output_type": "stream",
          "name": "stdout",
          "text": [
            "                             Feature  Importance\n",
            "                              tenure    0.506771\n",
            "                      MonthlyCharges    0.378771\n",
            "                   Contract_Two year    0.368287\n",
            "                   Contract_One year    0.209016\n",
            "      PaymentMethod_Electronic check    0.157775\n",
            "                  OnlineSecurity_Yes    0.134561\n",
            "                     TechSupport_Yes    0.116656\n",
            "DeviceProtection_No internet service    0.111978\n",
            "                PaperlessBilling_Yes    0.075429\n",
            "                      Dependents_Yes    0.048438\n"
          ]
        },
        {
          "output_type": "execute_result",
          "data": {
            "text/plain": [
              "['tenure',\n",
              " 'MonthlyCharges',\n",
              " 'Contract_Two year',\n",
              " 'Contract_One year',\n",
              " 'PaymentMethod_Electronic check',\n",
              " 'OnlineSecurity_Yes',\n",
              " 'TechSupport_Yes',\n",
              " 'DeviceProtection_No internet service',\n",
              " 'PaperlessBilling_Yes',\n",
              " 'Dependents_Yes']"
            ]
          },
          "metadata": {},
          "execution_count": 166
        }
      ]
    },
    {
      "cell_type": "code",
      "source": [
        "shap.summary_plot(shap_values, X_test_final_set, plot_type=\"bar\")"
      ],
      "metadata": {
        "colab": {
          "base_uri": "https://localhost:8080/",
          "height": 917
        },
        "id": "hjb0262A4Vkh",
        "outputId": "46930f15-faa5-444e-aad4-dcd9816f9c8d"
      },
      "execution_count": 167,
      "outputs": [
        {
          "output_type": "display_data",
          "data": {
            "text/plain": [
              "<Figure size 800x910 with 1 Axes>"
            ],
            "image/png": "[encoded data removed]"
          },
          "metadata": {}
        }
      ]
    },
    {
      "cell_type": "markdown",
      "source": [],
      "metadata": {
        "id": "FKVgSxMe_s1y"
      }
    },
    {
      "cell_type": "code",
      "source": [
        "from typing import Final\n",
        "top_10_list_by_coefficient\n",
        "top_10_list_by_permutation_importance\n",
        "top_10_list_by_shape_value\n",
        "\n",
        "Final_list=[]\n",
        "for item in top_10_list_by_coefficient:\n",
        "    if item in top_10_list_by_permutation_importance and item in top_10_list_by_shape_value:\n",
        "        Final_list.append(item)\n",
        "print(Final_list)\n",
        "print(len(Final_list))"
      ],
      "metadata": {
        "colab": {
          "base_uri": "https://localhost:8080/"
        },
        "id": "k5wFoSah_vX4",
        "outputId": "738e11d7-cbbc-4c41-a5e2-df56f7ae9589"
      },
      "execution_count": 168,
      "outputs": [
        {
          "output_type": "stream",
          "name": "stdout",
          "text": [
            "['tenure', 'MonthlyCharges', 'Contract_Two year', 'Contract_One year', 'PaymentMethod_Electronic check', 'OnlineSecurity_Yes', 'DeviceProtection_No internet service', 'TechSupport_Yes', 'Dependents_Yes']\n",
            "9\n"
          ]
        }
      ]
    },
    {
      "cell_type": "markdown",
      "source": [
        "['tenure', 'MonthlyCharges', 'Contract_Two year', 'Contract_One year', 'PaymentMethod_Electronic check', 'TechSupport_No internet service', 'OnlineSecurity_Yes', 'TechSupport_Yes', 'PaperlessBilling_Yes', 'Dependents_Yes']--> These are the final top 10 features that are driving the model. **Now we can simplify the model and save computational cost by only using these features**.\n"
      ],
      "metadata": {
        "id": "7HpvtQ93BJll"
      }
    },
    {
      "cell_type": "markdown",
      "source": [
        "# **Error Analysis or Slice Analysis**"
      ],
      "metadata": {
        "id": "EbL050wECbpm"
      }
    },
    {
      "cell_type": "code",
      "source": [
        "# tenure < 36 months and > 36 months\n",
        "df_tenure_greaterthan_36=df[df['tenure']>36]\n",
        "df_tenure_lessthan_36=df[df['tenure']<36]\n",
        "\n",
        "df_tenure_lessthan_36.iloc[[10]]\n"
      ],
      "metadata": {
        "colab": {
          "base_uri": "https://localhost:8080/",
          "height": 147
        },
        "id": "F2mMlSnMCxcx",
        "outputId": "725fa2bf-a949-45dc-a836-82fc6c75c86b"
      },
      "execution_count": 169,
      "outputs": [
        {
          "output_type": "execute_result",
          "data": {
            "text/plain": [
              "    customerID gender  SeniorCitizen Partner Dependents  tenure PhoneService  \\\n",
              "14  5129-JLPIS   Male              0      No         No      25          Yes   \n",
              "\n",
              "   MultipleLines InternetService OnlineSecurity  ... DeviceProtection  \\\n",
              "14            No     Fiber optic            Yes  ...              Yes   \n",
              "\n",
              "   TechSupport StreamingTV StreamingMovies        Contract PaperlessBilling  \\\n",
              "14         Yes         Yes             Yes  Month-to-month              Yes   \n",
              "\n",
              "       PaymentMethod MonthlyCharges  TotalCharges  Churn  \n",
              "14  Electronic check          105.5       2686.05      0  \n",
              "\n",
              "[1 rows x 21 columns]"
            ],
            "text/html": [
              "\n",
              "  <div id=\"df-d87a3fb4-cb7e-48f8-aa2f-471977649d81\" class=\"colab-df-container\">\n",
              "    <div>\n",
              "<style scoped>\n",
              "    .dataframe tbody tr th:only-of-type {\n",
              "        vertical-align: middle;\n",
              "    }\n",
              "\n",
              "    .dataframe tbody tr th {\n",
              "        vertical-align: top;\n",
              "    }\n",
              "\n",
              "    .dataframe thead th {\n",
              "        text-align: right;\n",
              "    }\n",
              "</style>\n",
              "<table border=\"1\" class=\"dataframe\">\n",
              "  <thead>\n",
              "    <tr style=\"text-align: right;\">\n",
              "      <th></th>\n",
              "      <th>customerID</th>\n",
              "      <th>gender</th>\n",
              "      <th>SeniorCitizen</th>\n",
              "      <th>Partner</th>\n",
              "      <th>Dependents</th>\n",
              "      <th>tenure</th>\n",
              "      <th>PhoneService</th>\n",
              "      <th>MultipleLines</th>\n",
              "      <th>InternetService</th>\n",
              "      <th>OnlineSecurity</th>\n",
              "      <th>...</th>\n",
              "      <th>DeviceProtection</th>\n",
              "      <th>TechSupport</th>\n",
              "      <th>StreamingTV</th>\n",
              "      <th>StreamingMovies</th>\n",
              "      <th>Contract</th>\n",
              "      <th>PaperlessBilling</th>\n",
              "      <th>PaymentMethod</th>\n",
              "      <th>MonthlyCharges</th>\n",
              "      <th>TotalCharges</th>\n",
              "      <th>Churn</th>\n",
              "    </tr>\n",
              "  </thead>\n",
              "  <tbody>\n",
              "    <tr>\n",
              "      <th>14</th>\n",
              "      <td>5129-JLPIS</td>\n",
              "      <td>Male</td>\n",
              "      <td>0</td>\n",
              "      <td>No</td>\n",
              "      <td>No</td>\n",
              "      <td>25</td>\n",
              "      <td>Yes</td>\n",
              "      <td>No</td>\n",
              "      <td>Fiber optic</td>\n",
              "      <td>Yes</td>\n",
              "      <td>...</td>\n",
              "      <td>Yes</td>\n",
              "      <td>Yes</td>\n",
              "      <td>Yes</td>\n",
              "      <td>Yes</td>\n",
              "      <td>Month-to-month</td>\n",
              "      <td>Yes</td>\n",
              "      <td>Electronic check</td>\n",
              "      <td>105.5</td>\n",
              "      <td>2686.05</td>\n",
              "      <td>0</td>\n",
              "    </tr>\n",
              "  </tbody>\n",
              "</table>\n",
              "<p>1 rows × 21 columns</p>\n",
              "</div>\n",
              "    <div class=\"colab-df-buttons\">\n",
              "\n",
              "  <div class=\"colab-df-container\">\n",
              "    <button class=\"colab-df-convert\" onclick=\"convertToInteractive('df-d87a3fb4-cb7e-48f8-aa2f-471977649d81')\"\n",
              "            title=\"Convert this dataframe to an interactive table.\"\n",
              "            style=\"display:none;\">\n",
              "\n",
              "  <svg xmlns=\"http://www.w3.org/2000/svg\" height=\"24px\" viewBox=\"0 -960 960 960\">\n",
              "    <path d=\"M120-120v-720h720v720H120Zm60-500h600v-160H180v160Zm220 220h160v-160H400v160Zm0 220h160v-160H400v160ZM180-400h160v-160H180v160Zm440 0h160v-160H620v160ZM180-180h160v-160H180v160Zm440 0h160v-160H620v160Z\"/>\n",
              "  </svg>\n",
              "    </button>\n",
              "\n",
              "  <style>\n",
              "    .colab-df-container {\n",
              "      display:flex;\n",
              "      gap: 12px;\n",
              "    }\n",
              "\n",
              "    .colab-df-convert {\n",
              "      background-color: #E8F0FE;\n",
              "      border: none;\n",
              "      border-radius: 50%;\n",
              "      cursor: pointer;\n",
              "      display: none;\n",
              "      fill: #1967D2;\n",
              "      height: 32px;\n",
              "      padding: 0 0 0 0;\n",
              "      width: 32px;\n",
              "    }\n",
              "\n",
              "    .colab-df-convert:hover {\n",
              "      background-color: #E2EBFA;\n",
              "      box-shadow: 0px 1px 2px rgba(60, 64, 67, 0.3), 0px 1px 3px 1px rgba(60, 64, 67, 0.15);\n",
              "      fill: #174EA6;\n",
              "    }\n",
              "\n",
              "    .colab-df-buttons div {\n",
              "      margin-bottom: 4px;\n",
              "    }\n",
              "\n",
              "    [theme=dark] .colab-df-convert {\n",
              "      background-color: #3B4455;\n",
              "      fill: #D2E3FC;\n",
              "    }\n",
              "\n",
              "    [theme=dark] .colab-df-convert:hover {\n",
              "      background-color: #434B5C;\n",
              "      box-shadow: 0px 1px 3px 1px rgba(0, 0, 0, 0.15);\n",
              "      filter: drop-shadow(0px 1px 2px rgba(0, 0, 0, 0.3));\n",
              "      fill: #FFFFFF;\n",
              "    }\n",
              "  </style>\n",
              "\n",
              "    <script>\n",
              "      const buttonEl =\n",
              "        document.querySelector('#df-d87a3fb4-cb7e-48f8-aa2f-471977649d81 button.colab-df-convert');\n",
              "      buttonEl.style.display =\n",
              "        google.colab.kernel.accessAllowed ? 'block' : 'none';\n",
              "\n",
              "      async function convertToInteractive(key) {\n",
              "        const element = document.querySelector('#df-d87a3fb4-cb7e-48f8-aa2f-471977649d81');\n",
              "        const dataTable =\n",
              "          await google.colab.kernel.invokeFunction('convertToInteractive',\n",
              "                                                    [key], {});\n",
              "        if (!dataTable) return;\n",
              "\n",
              "        const docLinkHtml = 'Like what you see? Visit the ' +\n",
              "          '<a target=\"_blank\" href=https://colab.research.google.com/notebooks/data_table.ipynb>data table notebook</a>'\n",
              "          + ' to learn more about interactive tables.';\n",
              "        element.innerHTML = '';\n",
              "        dataTable['output_type'] = 'display_data';\n",
              "        await google.colab.output.renderOutput(dataTable, element);\n",
              "        const docLink = document.createElement('div');\n",
              "        docLink.innerHTML = docLinkHtml;\n",
              "        element.appendChild(docLink);\n",
              "      }\n",
              "    </script>\n",
              "  </div>\n",
              "\n",
              "\n",
              "    </div>\n",
              "  </div>\n"
            ],
            "application/vnd.google.colaboratory.intrinsic+json": {
              "type": "dataframe"
            }
          },
          "metadata": {},
          "execution_count": 169
        }
      ]
    },
    {
      "cell_type": "code",
      "source": [
        "# Instance Level Analysis\n",
        "X_train_scaled = scaler.fit_transform(X_train_actual)\n",
        "X_test_dev_set_scaled=scaler.transform(X_test_dev_set) # Use this at development stage\n",
        "X_test_final_set_scaled=scaler.transform(X_test_final_set)  # Use this for final evaluation\n",
        "i=10\n",
        "X_test_final_set.iloc[[i]]\n",
        "result_for_ith_row=final_model.predict(X_test_final_set_scaled[[i]])\n",
        "print(result_for_ith_row)\n",
        "print('\\n')\n",
        "print(y_test_final_set.iloc[[i]])\n",
        "# The model predicted it will churn but the test dataset shows it wont churn. We need to find why did this happen?\n",
        "\n",
        "# Shap analysis\n",
        "\n",
        "\n",
        "import shap\n",
        "\n",
        "\n",
        "\n",
        "# SHAP explainer initialization\n",
        "explainer = shap.LinearExplainer(final_model, X_train_scaled)  # Pass scaled training data as masker\n",
        "\n",
        "# Compute SHAP values for the i-th row (scaled data)\n",
        "shap_values = explainer(X_test_final_set_scaled[[i]])  # Use explainer() instead of .shap_values()\n",
        "\n",
        "# Visualize SHAP values using a waterfall plot\n",
        "shap.plots.waterfall(shap_values[0])  # Waterfall plot for the i-th row\n",
        "\n",
        "\n",
        "shap_values"
      ],
      "metadata": {
        "colab": {
          "base_uri": "https://localhost:8080/",
          "height": 963
        },
        "id": "IGGf0bTSRFFD",
        "outputId": "1c916e7d-c437-416b-ec18-c0c3049a7457"
      },
      "execution_count": 170,
      "outputs": [
        {
          "output_type": "stream",
          "name": "stdout",
          "text": [
            "[1]\n",
            "\n",
            "\n",
            "4283    0\n",
            "Name: Churn, dtype: int64\n"
          ]
        },
        {
          "output_type": "display_data",
          "data": {
            "text/plain": [
              "<Figure size 800x650 with 3 Axes>"
            ],
            "image/png": "[encoded data removed]"
          },
          "metadata": {}
        },
        {
          "output_type": "execute_result",
          "data": {
            "text/plain": [
              ".values =\n",
              "array([[ 0.71022108,  0.06384428, -0.        ,  0.        ,  0.0379332 ,\n",
              "         0.0218595 ,  0.09057913, -0.        , -0.        ,  0.07157652,\n",
              "        -0.        , -0.        ,  0.08373222,  0.12915476,  0.27554188,\n",
              "         0.05413573, -0.        ,  0.26251685, -0.        ]])\n",
              "\n",
              ".base_values =\n",
              "array([-0.3598554])\n",
              "\n",
              ".data =\n",
              "array([[-1.16393691,  0.17558788, -0.89010785,  1.02657522, -0.66020051,\n",
              "        -0.51799631, -0.63427598, -0.51799631, -0.74062157, -0.51799631,\n",
              "        -0.7252179 , -0.51799631, -0.65465367, -0.51937625, -0.56468979,\n",
              "         0.81838794, -0.52385734,  1.40018796, -0.54344897]])"
            ]
          },
          "metadata": {},
          "execution_count": 170
        }
      ]
    },
    {
      "cell_type": "code",
      "source": [
        "X_test_final_set.columns"
      ],
      "metadata": {
        "colab": {
          "base_uri": "https://localhost:8080/"
        },
        "id": "MeyVIK7zVuAT",
        "outputId": "e1fa651d-c79a-4f37-cb18-f23c0815199c"
      },
      "execution_count": 171,
      "outputs": [
        {
          "output_type": "execute_result",
          "data": {
            "text/plain": [
              "Index(['tenure', 'MonthlyCharges', 'TotalCharges', 'Partner_Yes',\n",
              "       'Dependents_Yes', 'OnlineSecurity_No internet service',\n",
              "       'OnlineSecurity_Yes', 'OnlineBackup_No internet service',\n",
              "       'OnlineBackup_Yes', 'DeviceProtection_No internet service',\n",
              "       'DeviceProtection_Yes', 'TechSupport_No internet service',\n",
              "       'TechSupport_Yes', 'Contract_One year', 'Contract_Two year',\n",
              "       'PaperlessBilling_Yes', 'PaymentMethod_Credit card (automatic)',\n",
              "       'PaymentMethod_Electronic check', 'PaymentMethod_Mailed check'],\n",
              "      dtype='object')"
            ]
          },
          "metadata": {},
          "execution_count": 171
        }
      ]
    },
    {
      "cell_type": "code",
      "source": [
        "\n"
      ],
      "metadata": {
        "id": "JqNtKereYtik"
      },
      "execution_count": 55,
      "outputs": []
    },
    {
      "cell_type": "code",
      "source": [],
      "metadata": {
        "id": "xjckcxZnfVys"
      },
      "execution_count": null,
      "outputs": []
    },
    {
      "cell_type": "markdown",
      "source": [
        "Important Features: ['tenure', 'MonthlyCharges', 'Contract_Two year', 'Contract_One year', 'PaymentMethod_Electronic check', 'TechSupport_No internet service', 'OnlineSecurity_Yes', 'TechSupport_Yes', 'PaperlessBilling_Yes', 'Dependents_Yes']"
      ],
      "metadata": {
        "id": "qGzFgQEUfYUF"
      }
    },
    {
      "cell_type": "markdown",
      "source": [
        "Mental map: Q) How many customers churn just after one month of service?\n",
        "Ans: If **a lot churns**, it suggest the ** first impression is not great** . Then the model helps us analyze the reasons of churn.\n"
      ],
      "metadata": {
        "id": "KZ0XP1U2jeUC"
      }
    },
    {
      "cell_type": "code",
      "source": [
        "# Model Interpretation\n",
        "df_tenure_1=df[df['tenure']==1]\n",
        "n_customers=df_tenure_1.shape[0]\n",
        "percent_of_df_tenure_1_customers=(n_customers/df.shape[0])*100\n",
        "percent_of_df_tenure_1_customers  # The percentage is 8.7%.\n",
        "print('Total_number:',n_customers)\n",
        "print(\"How many of them churn:\",df_tenure_1['Churn'].sum())\n",
        "print(\"percentage of churn:\",(df_tenure_1['Churn'].sum()/n_customers)*100) # Almost 62% churns"
      ],
      "metadata": {
        "colab": {
          "base_uri": "https://localhost:8080/"
        },
        "id": "vRRtSF6ffLrF",
        "outputId": "5bbce4be-097c-4317-8808-d2abf9eb9f22"
      },
      "execution_count": 172,
      "outputs": [
        {
          "output_type": "stream",
          "name": "stdout",
          "text": [
            "Total_number: 613\n",
            "How many of them churn: 380\n",
            "percentage of churn: 61.99021207177814\n"
          ]
        }
      ]
    },
    {
      "cell_type": "markdown",
      "source": [
        "62% of churn indicates the first impression is really bad. or there are significant issues with  service during the initial stages of customer interaction."
      ],
      "metadata": {
        "id": "I1VyKCeMqVO5"
      }
    },
    {
      "cell_type": "code",
      "source": [
        "# Extracting rows"
      ],
      "metadata": {
        "id": "XvXP1hY0rCG_"
      },
      "execution_count": 128,
      "outputs": []
    },
    {
      "cell_type": "markdown",
      "source": [
        "Mental map: If the shap value of the total charges in 50% of churned customers are highest then, total charges is the reason behind bad first impression."
      ],
      "metadata": {
        "id": "6zfakSlhu-IB"
      }
    },
    {
      "cell_type": "code",
      "source": [
        "import pandas as pd\n",
        "import shap\n",
        "\n",
        "\n",
        "\n",
        "# Filter churned customers\n",
        "filtered_data = df[(df['Churn'] == 1) & (df['tenure'] == 1)]\n",
        "\n",
        "# Extract relevant features for SHAP analysis\n",
        "X =filtered_data[deciding_factors].copy()\n",
        "\n",
        "# Extract target\n",
        "y=filtered_data['Churn'].copy()\n",
        "\n",
        "cat_factors = ['Partner', 'Dependents', 'OnlineSecurity', 'OnlineBackup', 'DeviceProtection', 'TechSupport', 'Contract', 'PaperlessBilling', 'PaymentMethod']\n",
        "\n",
        "#Encoding\n",
        "X_encoded_tenure_1 = pd.get_dummies(X, columns=cat_factors, drop_first=True) # Encoded features\n",
        "X_encoded_tenure_1  =X_encoded_tenure_1.reindex(columns=X_encoded.columns, fill_value=0)\n",
        "\n",
        "# 'Contract_One year', 'Contract_Two year'\n",
        "# Scaling\n",
        "\n",
        "X_scaled_filtered = scaler.transform(X_encoded_tenure_1)\n",
        "\n",
        "\n",
        "# # Load our trained model\n",
        "y_predict=final_model.predict(X_scaled_filtered)\n",
        "\n",
        "y_predict.shape"
      ],
      "metadata": {
        "colab": {
          "base_uri": "https://localhost:8080/"
        },
        "id": "FzJ0SiBGrCVH",
        "outputId": "c3703711-97c9-4191-9782-c40370b88151"
      },
      "execution_count": 214,
      "outputs": [
        {
          "output_type": "execute_result",
          "data": {
            "text/plain": [
              "(380,)"
            ]
          },
          "metadata": {},
          "execution_count": 214
        }
      ]
    },
    {
      "cell_type": "code",
      "source": [],
      "metadata": {
        "colab": {
          "base_uri": "https://localhost:8080/"
        },
        "id": "qZDlrQ9D3fM4",
        "outputId": "4bee24f5-74fc-44be-8a8c-a74f317976fe"
      },
      "execution_count": 215,
      "outputs": [
        {
          "output_type": "execute_result",
          "data": {
            "text/plain": [
              "array([1, 1, 1, 1, 1, 1, 1, 1, 1, 1, 1, 1, 1, 1, 1, 1, 1, 1, 1, 1, 1, 1,\n",
              "       1, 1, 1, 1, 1, 1, 1, 1, 1, 1, 1, 1, 1, 1, 1, 1, 1, 1, 1, 1, 1, 1,\n",
              "       1, 1, 1, 1, 1, 1, 1, 1, 1, 1, 1, 1, 1, 1, 1, 1, 1, 1, 1, 1, 1, 1,\n",
              "       1, 1, 1, 1, 1, 1, 1, 1, 1, 1, 1, 1, 1, 1, 1, 1, 1, 1, 1, 1, 1, 1,\n",
              "       1, 1, 1, 1, 1, 1, 1, 1, 1, 1, 1, 1, 1, 1, 1, 1, 1, 1, 1, 1, 1, 1,\n",
              "       1, 1, 1, 1, 1, 1, 1, 1, 1, 1, 1, 1, 1, 1, 1, 1, 1, 1, 1, 1, 1, 1,\n",
              "       1, 1, 1, 1, 1, 1, 1, 1, 1, 1, 1, 1, 1, 1, 1, 1, 1, 1, 1, 1, 1, 1,\n",
              "       1, 1, 1, 1, 1, 1, 1, 1, 1, 1, 1, 1, 1, 1, 1, 1, 1, 1, 1, 1, 1, 1,\n",
              "       1, 1, 1, 1, 1, 1, 1, 1, 1, 1, 1, 1, 1, 1, 1, 1, 1, 1, 1, 1, 1, 1,\n",
              "       1, 1, 1, 1, 1, 1, 1, 1, 1, 1, 1, 1, 1, 1, 1, 1, 1, 1, 1, 1, 1, 1,\n",
              "       1, 1, 1, 1, 1, 1, 1, 1, 1, 1, 1, 1, 1, 1, 1, 1, 1, 1, 1, 1, 1, 1,\n",
              "       1, 1, 1, 1, 1, 1, 1, 1, 1, 1, 1, 1, 1, 1, 1, 1, 1, 1, 1, 1, 1, 1,\n",
              "       1, 1, 1, 1, 1, 1, 1, 1, 1, 1, 1, 1, 1, 1, 1, 1, 1, 1, 1, 1, 1, 1,\n",
              "       1, 1, 1, 1, 1, 1, 1, 1, 1, 1, 1, 1, 1, 1, 1, 1, 1, 1, 1, 1, 1, 1,\n",
              "       1, 1, 1, 1, 1, 1, 1, 1, 1, 1, 1, 1, 1, 1, 1, 1, 1, 1, 1, 1, 1, 1,\n",
              "       1, 1, 1, 1, 1, 1, 1, 1, 1, 1, 1, 1, 1, 1, 1, 1, 1, 1, 1, 1, 1, 1,\n",
              "       1, 1, 1, 1, 1, 1, 1, 1, 1, 1, 1, 1, 1, 1, 1, 1, 1, 1, 1, 1, 1, 1,\n",
              "       1, 1, 1, 1, 1, 1])"
            ]
          },
          "metadata": {},
          "execution_count": 215
        }
      ]
    },
    {
      "cell_type": "code",
      "source": [
        "import shap\n",
        "\n",
        "# Create SHAP explainer (assuming a tree-based model or linear model)\n",
        "explainer = shap.Explainer(final_model, X_scaled)\n",
        "shap_values = explainer(X_scaled_filtered)\n"
      ],
      "metadata": {
        "id": "JSpPBqQtyuLQ"
      },
      "execution_count": 216,
      "outputs": []
    },
    {
      "cell_type": "code",
      "source": [
        "import numpy as np\n",
        "import pandas as pd\n",
        "\n",
        "# Absolute SHAP values show \"strength of impact\"\n",
        "shap_df = pd.DataFrame(\n",
        "    shap_values.values,\n",
        "    columns=X_encoded_tenure_1.columns\n",
        ")\n",
        "\n",
        "# Find the top feature per row\n",
        "top_features = shap_df.abs().idxmax(axis=1)\n",
        "\n",
        "# Count how many times each feature is the top one\n",
        "feature_counts = top_features.value_counts(normalize=True) * 100  # % of rows\n",
        "print(feature_counts)\n",
        "print(top_features)\n"
      ],
      "metadata": {
        "colab": {
          "base_uri": "https://localhost:8080/"
        },
        "id": "0dL5biWM86bG",
        "outputId": "da5dafea-5610-438f-bd9b-ed037a2e5892"
      },
      "execution_count": 217,
      "outputs": [
        {
          "output_type": "stream",
          "name": "stdout",
          "text": [
            "tenure    100.0\n",
            "Name: proportion, dtype: float64\n",
            "0      tenure\n",
            "1      tenure\n",
            "2      tenure\n",
            "3      tenure\n",
            "4      tenure\n",
            "        ...  \n",
            "375    tenure\n",
            "376    tenure\n",
            "377    tenure\n",
            "378    tenure\n",
            "379    tenure\n",
            "Length: 380, dtype: object\n"
          ]
        }
      ]
    },
    {
      "cell_type": "code",
      "source": [
        "# Drop constant columns\n",
        "constant_cols = [col for col in X_encoded_tenure_1.columns if X_encoded_tenure_1[col].nunique() == 1]\n",
        "shap_df = shap_df.drop(columns=constant_cols)"
      ],
      "metadata": {
        "id": "gvtbNvoeLs5d"
      },
      "execution_count": 218,
      "outputs": []
    },
    {
      "cell_type": "code",
      "source": [
        "# Find top feature per row\n",
        "top_features = shap_df.abs().idxmax(axis=1)\n",
        "\n",
        "# Count how many times each feature is top\n",
        "feature_counts = top_features.value_counts(normalize=True) * 100\n",
        "print(feature_counts)\n",
        "\n",
        "# Apply >50% rule\n",
        "if feature_counts.iloc[0] > 50:\n",
        "    print(f\"{feature_counts.index[0]} is the main reason for churn in this subset.\")\n"
      ],
      "metadata": {
        "colab": {
          "base_uri": "https://localhost:8080/"
        },
        "id": "uCVsQqrfL557",
        "outputId": "ca9701af-e89e-44d5-d895-ec90433ddd85"
      },
      "execution_count": 219,
      "outputs": [
        {
          "output_type": "stream",
          "name": "stdout",
          "text": [
            "MonthlyCharges                    56.842105\n",
            "PaymentMethod_Electronic check    41.578947\n",
            "OnlineSecurity_Yes                 0.789474\n",
            "TechSupport_Yes                    0.789474\n",
            "Name: proportion, dtype: float64\n",
            "MonthlyCharges is the main reason for churn in this subset.\n"
          ]
        }
      ]
    },
    {
      "cell_type": "markdown",
      "source": [
        "If the customers churns when tenure is one month, then monthly charges is the main reason. Which says that customers are either not clear about the bill or they are not satisfied with the hidden charges or the charge did not match their expectation."
      ],
      "metadata": {
        "id": "vO5fBK9IMIKj"
      }
    },
    {
      "cell_type": "code",
      "source": [],
      "metadata": {
        "id": "dNDQVgm2MHdj"
      },
      "execution_count": 195,
      "outputs": []
    },
    {
      "cell_type": "code",
      "source": [
        "if feature_counts.get(\"TotalCharges\", 0) > 50:\n",
        "    print(\"TotalCharges is the main reason for churn in this subset.\")\n",
        "elif feature_counts.get(\"MonthlyCharges\", 0) > 50:\n",
        "    print(\"MonthlyCharges is the main reason for churn in this subset.\")\n",
        "else:\n",
        "    print(\"No single feature dominates >50% of churn reasons.\")\n"
      ],
      "metadata": {
        "colab": {
          "base_uri": "https://localhost:8080/"
        },
        "id": "km9BNms7HcIP",
        "outputId": "474979b4-2d8f-4bb3-e685-4229155b88f7"
      },
      "execution_count": 220,
      "outputs": [
        {
          "output_type": "stream",
          "name": "stdout",
          "text": [
            "MonthlyCharges is the main reason for churn in this subset.\n"
          ]
        }
      ]
    },
    {
      "cell_type": "code",
      "source": [
        "# Find top feature per row\n",
        "top_features = shap_df.abs().idxmax(axis=1)\n",
        "\n",
        "# Count how many times each feature is top\n",
        "feature_counts = top_features.value_counts(normalize=True) * 100\n",
        "print(feature_counts)\n",
        "\n",
        "# Apply >50% rule\n",
        "if feature_counts.iloc[0] > 50:\n",
        "    print(f\"{feature_counts.index[0]} is the main reason for churn in this subset.\")\n",
        "\n"
      ],
      "metadata": {
        "colab": {
          "base_uri": "https://localhost:8080/"
        },
        "id": "VxCfZbWwpRvQ",
        "outputId": "7610ee0e-c2a0-4038-b730-1d4ab6971410"
      },
      "execution_count": 221,
      "outputs": [
        {
          "output_type": "stream",
          "name": "stdout",
          "text": [
            "MonthlyCharges                    56.842105\n",
            "PaymentMethod_Electronic check    41.578947\n",
            "OnlineSecurity_Yes                 0.789474\n",
            "TechSupport_Yes                    0.789474\n",
            "Name: proportion, dtype: float64\n",
            "MonthlyCharges is the main reason for churn in this subset.\n"
          ]
        }
      ]
    },
    {
      "cell_type": "markdown",
      "source": [
        "For customers who actually churned, what pushed the model to predict churn?"
      ],
      "metadata": {
        "id": "1H0Jmf8hNPh0"
      }
    },
    {
      "cell_type": "code",
      "source": [
        "# Predict using the scaled, encoded features\n",
        "y_pred = final_model.predict(X_scaled_filtered)\n",
        "y_pred.shape"
      ],
      "metadata": {
        "colab": {
          "base_uri": "https://localhost:8080/"
        },
        "id": "9fNiZoH9NmGT",
        "outputId": "040b53a4-62d9-46ec-bd6b-c36b78c1ce36"
      },
      "execution_count": 222,
      "outputs": [
        {
          "output_type": "execute_result",
          "data": {
            "text/plain": [
              "(380,)"
            ]
          },
          "metadata": {},
          "execution_count": 222
        }
      ]
    },
    {
      "cell_type": "code",
      "source": [
        "# Keep only rows where model predicted churn\n",
        "X_shap_analysis = X_encoded_tenure_1[y_pred == 1]\n",
        "shap_values_filtered = explainer(X_shap_analysis )\n",
        "shap_df_filtered = pd.DataFrame(shap_values_filtered.values, columns=X_shap_analysis.columns)\n",
        "shap_df_filtered"
      ],
      "metadata": {
        "colab": {
          "base_uri": "https://localhost:8080/",
          "height": 478
        },
        "id": "x8cDrSfFNeBT",
        "outputId": "35232d07-f9e8-4828-d62b-d07b03217f91"
      },
      "execution_count": 229,
      "outputs": [
        {
          "output_type": "execute_result",
          "data": {
            "text/plain": [
              "       tenure MonthlyCharges TotalCharges Partner_Yes Dependents_Yes  \\\n",
              "0   -0.535104      17.325659          0.0         0.0      -0.005975   \n",
              "1   -0.535104      13.195207          0.0         0.0      -0.057273   \n",
              "2   -0.535104      34.677926          0.0         0.0      -0.057273   \n",
              "3   -0.535104      15.489903          0.0         0.0      -0.005975   \n",
              "4   -0.535104      30.787871          0.0         0.0      -0.005975   \n",
              "..        ...            ...          ...         ...            ...   \n",
              "324 -0.535104      30.307077          0.0         0.0      -0.005975   \n",
              "325 -0.535104      30.416349          0.0         0.0      -0.005975   \n",
              "326 -0.535104       32.53621          0.0         0.0      -0.005975   \n",
              "327 -0.535104      30.875288          0.0         0.0      -0.057273   \n",
              "328 -0.535104       33.10442          0.0         0.0      -0.005975   \n",
              "\n",
              "    OnlineSecurity_No internet service OnlineSecurity_Yes  \\\n",
              "0                              0.00382           0.001044   \n",
              "1                              0.00382           0.001044   \n",
              "2                              0.00382           0.001044   \n",
              "3                              0.00382           0.001044   \n",
              "4                              0.00382           0.001044   \n",
              "..                                 ...                ...   \n",
              "324                            0.00382           0.001044   \n",
              "325                            0.00382           0.001044   \n",
              "326                            0.00382           0.001044   \n",
              "327                            0.00382           0.001044   \n",
              "328                            0.00382           0.001044   \n",
              "\n",
              "    OnlineBackup_No internet service OnlineBackup_Yes  \\\n",
              "0                               -0.0              0.0   \n",
              "1                               -0.0              0.0   \n",
              "2                               -0.0              0.0   \n",
              "3                               -0.0              0.0   \n",
              "4                               -0.0              0.0   \n",
              "..                               ...              ...   \n",
              "324                             -0.0              0.0   \n",
              "325                             -0.0              0.0   \n",
              "326                             -0.0              0.0   \n",
              "327                             -0.0              0.0   \n",
              "328                             -0.0              0.0   \n",
              "\n",
              "    DeviceProtection_No internet service DeviceProtection_Yes  \\\n",
              "0                               0.012508                  0.0   \n",
              "1                               0.012508                 -0.0   \n",
              "2                               0.012508                 -0.0   \n",
              "3                               0.012508                 -0.0   \n",
              "4                               0.012508                 -0.0   \n",
              "..                                   ...                  ...   \n",
              "324                             0.012508                 -0.0   \n",
              "325                             0.012508                 -0.0   \n",
              "326                             0.012508                 -0.0   \n",
              "327                             0.012508                 -0.0   \n",
              "328                             0.012508                 -0.0   \n",
              "\n",
              "    TechSupport_No internet service TechSupport_Yes Contract_One year  \\\n",
              "0                              -0.0       -0.017324         -0.014494   \n",
              "1                              -0.0       -0.017324         -0.014494   \n",
              "2                              -0.0       -0.017324         -0.014494   \n",
              "3                              -0.0       -0.017324         -0.014494   \n",
              "4                              -0.0       -0.017324         -0.014494   \n",
              "..                              ...             ...               ...   \n",
              "324                            -0.0       -0.017324         -0.014494   \n",
              "325                            -0.0       -0.017324         -0.014494   \n",
              "326                            -0.0       -0.017324         -0.014494   \n",
              "327                            -0.0       -0.017324         -0.014494   \n",
              "328                            -0.0       -0.017324         -0.014494   \n",
              "\n",
              "    Contract_Two year PaperlessBilling_Yes  \\\n",
              "0            0.017314             0.077862   \n",
              "1            0.017314            -0.000177   \n",
              "2            0.017314             0.077862   \n",
              "3            0.017314             0.077862   \n",
              "4            0.017314             0.077862   \n",
              "..                ...                  ...   \n",
              "324          0.017314             0.077862   \n",
              "325          0.017314             0.077862   \n",
              "326          0.017314             0.077862   \n",
              "327          0.017314             0.077862   \n",
              "328          0.017314             0.077862   \n",
              "\n",
              "    PaymentMethod_Credit card (automatic) PaymentMethod_Electronic check  \\\n",
              "0                                    -0.0                       0.177746   \n",
              "1                                    -0.0                       0.177746   \n",
              "2                                    -0.0                       0.177746   \n",
              "3                                    -0.0                       0.177746   \n",
              "4                                    -0.0                       0.002876   \n",
              "..                                    ...                            ...   \n",
              "324                                  -0.0                       0.177746   \n",
              "325                                  -0.0                       0.177746   \n",
              "326                                  -0.0                       0.177746   \n",
              "327                                  -0.0                       0.002876   \n",
              "328                                  -0.0                       0.177746   \n",
              "\n",
              "    PaymentMethod_Mailed check  \n",
              "0                          0.0  \n",
              "1                          0.0  \n",
              "2                          0.0  \n",
              "3                          0.0  \n",
              "4                          0.0  \n",
              "..                         ...  \n",
              "324                        0.0  \n",
              "325                        0.0  \n",
              "326                        0.0  \n",
              "327                        0.0  \n",
              "328                        0.0  \n",
              "\n",
              "[329 rows x 19 columns]"
            ],
            "text/html": [
              "\n",
              "  <div id=\"df-858a7c02-3ee1-47f7-be24-08a92ea23c47\" class=\"colab-df-container\">\n",
              "    <div>\n",
              "<style scoped>\n",
              "    .dataframe tbody tr th:only-of-type {\n",
              "        vertical-align: middle;\n",
              "    }\n",
              "\n",
              "    .dataframe tbody tr th {\n",
              "        vertical-align: top;\n",
              "    }\n",
              "\n",
              "    .dataframe thead th {\n",
              "        text-align: right;\n",
              "    }\n",
              "</style>\n",
              "<table border=\"1\" class=\"dataframe\">\n",
              "  <thead>\n",
              "    <tr style=\"text-align: right;\">\n",
              "      <th></th>\n",
              "      <th>tenure</th>\n",
              "      <th>MonthlyCharges</th>\n",
              "      <th>TotalCharges</th>\n",
              "      <th>Partner_Yes</th>\n",
              "      <th>Dependents_Yes</th>\n",
              "      <th>OnlineSecurity_No internet service</th>\n",
              "      <th>OnlineSecurity_Yes</th>\n",
              "      <th>OnlineBackup_No internet service</th>\n",
              "      <th>OnlineBackup_Yes</th>\n",
              "      <th>DeviceProtection_No internet service</th>\n",
              "      <th>DeviceProtection_Yes</th>\n",
              "      <th>TechSupport_No internet service</th>\n",
              "      <th>TechSupport_Yes</th>\n",
              "      <th>Contract_One year</th>\n",
              "      <th>Contract_Two year</th>\n",
              "      <th>PaperlessBilling_Yes</th>\n",
              "      <th>PaymentMethod_Credit card (automatic)</th>\n",
              "      <th>PaymentMethod_Electronic check</th>\n",
              "      <th>PaymentMethod_Mailed check</th>\n",
              "    </tr>\n",
              "  </thead>\n",
              "  <tbody>\n",
              "    <tr>\n",
              "      <th>0</th>\n",
              "      <td>-0.535104</td>\n",
              "      <td>17.325659</td>\n",
              "      <td>0.0</td>\n",
              "      <td>0.0</td>\n",
              "      <td>-0.005975</td>\n",
              "      <td>0.00382</td>\n",
              "      <td>0.001044</td>\n",
              "      <td>-0.0</td>\n",
              "      <td>0.0</td>\n",
              "      <td>0.012508</td>\n",
              "      <td>0.0</td>\n",
              "      <td>-0.0</td>\n",
              "      <td>-0.017324</td>\n",
              "      <td>-0.014494</td>\n",
              "      <td>0.017314</td>\n",
              "      <td>0.077862</td>\n",
              "      <td>-0.0</td>\n",
              "      <td>0.177746</td>\n",
              "      <td>0.0</td>\n",
              "    </tr>\n",
              "    <tr>\n",
              "      <th>1</th>\n",
              "      <td>-0.535104</td>\n",
              "      <td>13.195207</td>\n",
              "      <td>0.0</td>\n",
              "      <td>0.0</td>\n",
              "      <td>-0.057273</td>\n",
              "      <td>0.00382</td>\n",
              "      <td>0.001044</td>\n",
              "      <td>-0.0</td>\n",
              "      <td>0.0</td>\n",
              "      <td>0.012508</td>\n",
              "      <td>-0.0</td>\n",
              "      <td>-0.0</td>\n",
              "      <td>-0.017324</td>\n",
              "      <td>-0.014494</td>\n",
              "      <td>0.017314</td>\n",
              "      <td>-0.000177</td>\n",
              "      <td>-0.0</td>\n",
              "      <td>0.177746</td>\n",
              "      <td>0.0</td>\n",
              "    </tr>\n",
              "    <tr>\n",
              "      <th>2</th>\n",
              "      <td>-0.535104</td>\n",
              "      <td>34.677926</td>\n",
              "      <td>0.0</td>\n",
              "      <td>0.0</td>\n",
              "      <td>-0.057273</td>\n",
              "      <td>0.00382</td>\n",
              "      <td>0.001044</td>\n",
              "      <td>-0.0</td>\n",
              "      <td>0.0</td>\n",
              "      <td>0.012508</td>\n",
              "      <td>-0.0</td>\n",
              "      <td>-0.0</td>\n",
              "      <td>-0.017324</td>\n",
              "      <td>-0.014494</td>\n",
              "      <td>0.017314</td>\n",
              "      <td>0.077862</td>\n",
              "      <td>-0.0</td>\n",
              "      <td>0.177746</td>\n",
              "      <td>0.0</td>\n",
              "    </tr>\n",
              "    <tr>\n",
              "      <th>3</th>\n",
              "      <td>-0.535104</td>\n",
              "      <td>15.489903</td>\n",
              "      <td>0.0</td>\n",
              "      <td>0.0</td>\n",
              "      <td>-0.005975</td>\n",
              "      <td>0.00382</td>\n",
              "      <td>0.001044</td>\n",
              "      <td>-0.0</td>\n",
              "      <td>0.0</td>\n",
              "      <td>0.012508</td>\n",
              "      <td>-0.0</td>\n",
              "      <td>-0.0</td>\n",
              "      <td>-0.017324</td>\n",
              "      <td>-0.014494</td>\n",
              "      <td>0.017314</td>\n",
              "      <td>0.077862</td>\n",
              "      <td>-0.0</td>\n",
              "      <td>0.177746</td>\n",
              "      <td>0.0</td>\n",
              "    </tr>\n",
              "    <tr>\n",
              "      <th>4</th>\n",
              "      <td>-0.535104</td>\n",
              "      <td>30.787871</td>\n",
              "      <td>0.0</td>\n",
              "      <td>0.0</td>\n",
              "      <td>-0.005975</td>\n",
              "      <td>0.00382</td>\n",
              "      <td>0.001044</td>\n",
              "      <td>-0.0</td>\n",
              "      <td>0.0</td>\n",
              "      <td>0.012508</td>\n",
              "      <td>-0.0</td>\n",
              "      <td>-0.0</td>\n",
              "      <td>-0.017324</td>\n",
              "      <td>-0.014494</td>\n",
              "      <td>0.017314</td>\n",
              "      <td>0.077862</td>\n",
              "      <td>-0.0</td>\n",
              "      <td>0.002876</td>\n",
              "      <td>0.0</td>\n",
              "    </tr>\n",
              "    <tr>\n",
              "      <th>...</th>\n",
              "      <td>...</td>\n",
              "      <td>...</td>\n",
              "      <td>...</td>\n",
              "      <td>...</td>\n",
              "      <td>...</td>\n",
              "      <td>...</td>\n",
              "      <td>...</td>\n",
              "      <td>...</td>\n",
              "      <td>...</td>\n",
              "      <td>...</td>\n",
              "      <td>...</td>\n",
              "      <td>...</td>\n",
              "      <td>...</td>\n",
              "      <td>...</td>\n",
              "      <td>...</td>\n",
              "      <td>...</td>\n",
              "      <td>...</td>\n",
              "      <td>...</td>\n",
              "      <td>...</td>\n",
              "    </tr>\n",
              "    <tr>\n",
              "      <th>324</th>\n",
              "      <td>-0.535104</td>\n",
              "      <td>30.307077</td>\n",
              "      <td>0.0</td>\n",
              "      <td>0.0</td>\n",
              "      <td>-0.005975</td>\n",
              "      <td>0.00382</td>\n",
              "      <td>0.001044</td>\n",
              "      <td>-0.0</td>\n",
              "      <td>0.0</td>\n",
              "      <td>0.012508</td>\n",
              "      <td>-0.0</td>\n",
              "      <td>-0.0</td>\n",
              "      <td>-0.017324</td>\n",
              "      <td>-0.014494</td>\n",
              "      <td>0.017314</td>\n",
              "      <td>0.077862</td>\n",
              "      <td>-0.0</td>\n",
              "      <td>0.177746</td>\n",
              "      <td>0.0</td>\n",
              "    </tr>\n",
              "    <tr>\n",
              "      <th>325</th>\n",
              "      <td>-0.535104</td>\n",
              "      <td>30.416349</td>\n",
              "      <td>0.0</td>\n",
              "      <td>0.0</td>\n",
              "      <td>-0.005975</td>\n",
              "      <td>0.00382</td>\n",
              "      <td>0.001044</td>\n",
              "      <td>-0.0</td>\n",
              "      <td>0.0</td>\n",
              "      <td>0.012508</td>\n",
              "      <td>-0.0</td>\n",
              "      <td>-0.0</td>\n",
              "      <td>-0.017324</td>\n",
              "      <td>-0.014494</td>\n",
              "      <td>0.017314</td>\n",
              "      <td>0.077862</td>\n",
              "      <td>-0.0</td>\n",
              "      <td>0.177746</td>\n",
              "      <td>0.0</td>\n",
              "    </tr>\n",
              "    <tr>\n",
              "      <th>326</th>\n",
              "      <td>-0.535104</td>\n",
              "      <td>32.53621</td>\n",
              "      <td>0.0</td>\n",
              "      <td>0.0</td>\n",
              "      <td>-0.005975</td>\n",
              "      <td>0.00382</td>\n",
              "      <td>0.001044</td>\n",
              "      <td>-0.0</td>\n",
              "      <td>0.0</td>\n",
              "      <td>0.012508</td>\n",
              "      <td>-0.0</td>\n",
              "      <td>-0.0</td>\n",
              "      <td>-0.017324</td>\n",
              "      <td>-0.014494</td>\n",
              "      <td>0.017314</td>\n",
              "      <td>0.077862</td>\n",
              "      <td>-0.0</td>\n",
              "      <td>0.177746</td>\n",
              "      <td>0.0</td>\n",
              "    </tr>\n",
              "    <tr>\n",
              "      <th>327</th>\n",
              "      <td>-0.535104</td>\n",
              "      <td>30.875288</td>\n",
              "      <td>0.0</td>\n",
              "      <td>0.0</td>\n",
              "      <td>-0.057273</td>\n",
              "      <td>0.00382</td>\n",
              "      <td>0.001044</td>\n",
              "      <td>-0.0</td>\n",
              "      <td>0.0</td>\n",
              "      <td>0.012508</td>\n",
              "      <td>-0.0</td>\n",
              "      <td>-0.0</td>\n",
              "      <td>-0.017324</td>\n",
              "      <td>-0.014494</td>\n",
              "      <td>0.017314</td>\n",
              "      <td>0.077862</td>\n",
              "      <td>-0.0</td>\n",
              "      <td>0.002876</td>\n",
              "      <td>0.0</td>\n",
              "    </tr>\n",
              "    <tr>\n",
              "      <th>328</th>\n",
              "      <td>-0.535104</td>\n",
              "      <td>33.10442</td>\n",
              "      <td>0.0</td>\n",
              "      <td>0.0</td>\n",
              "      <td>-0.005975</td>\n",
              "      <td>0.00382</td>\n",
              "      <td>0.001044</td>\n",
              "      <td>-0.0</td>\n",
              "      <td>0.0</td>\n",
              "      <td>0.012508</td>\n",
              "      <td>-0.0</td>\n",
              "      <td>-0.0</td>\n",
              "      <td>-0.017324</td>\n",
              "      <td>-0.014494</td>\n",
              "      <td>0.017314</td>\n",
              "      <td>0.077862</td>\n",
              "      <td>-0.0</td>\n",
              "      <td>0.177746</td>\n",
              "      <td>0.0</td>\n",
              "    </tr>\n",
              "  </tbody>\n",
              "</table>\n",
              "<p>329 rows × 19 columns</p>\n",
              "</div>\n",
              "    <div class=\"colab-df-buttons\">\n",
              "\n",
              "  <div class=\"colab-df-container\">\n",
              "    <button class=\"colab-df-convert\" onclick=\"convertToInteractive('df-858a7c02-3ee1-47f7-be24-08a92ea23c47')\"\n",
              "            title=\"Convert this dataframe to an interactive table.\"\n",
              "            style=\"display:none;\">\n",
              "\n",
              "  <svg xmlns=\"http://www.w3.org/2000/svg\" height=\"24px\" viewBox=\"0 -960 960 960\">\n",
              "    <path d=\"M120-120v-720h720v720H120Zm60-500h600v-160H180v160Zm220 220h160v-160H400v160Zm0 220h160v-160H400v160ZM180-400h160v-160H180v160Zm440 0h160v-160H620v160ZM180-180h160v-160H180v160Zm440 0h160v-160H620v160Z\"/>\n",
              "  </svg>\n",
              "    </button>\n",
              "\n",
              "  <style>\n",
              "    .colab-df-container {\n",
              "      display:flex;\n",
              "      gap: 12px;\n",
              "    }\n",
              "\n",
              "    .colab-df-convert {\n",
              "      background-color: #E8F0FE;\n",
              "      border: none;\n",
              "      border-radius: 50%;\n",
              "      cursor: pointer;\n",
              "      display: none;\n",
              "      fill: #1967D2;\n",
              "      height: 32px;\n",
              "      padding: 0 0 0 0;\n",
              "      width: 32px;\n",
              "    }\n",
              "\n",
              "    .colab-df-convert:hover {\n",
              "      background-color: #E2EBFA;\n",
              "      box-shadow: 0px 1px 2px rgba(60, 64, 67, 0.3), 0px 1px 3px 1px rgba(60, 64, 67, 0.15);\n",
              "      fill: #174EA6;\n",
              "    }\n",
              "\n",
              "    .colab-df-buttons div {\n",
              "      margin-bottom: 4px;\n",
              "    }\n",
              "\n",
              "    [theme=dark] .colab-df-convert {\n",
              "      background-color: #3B4455;\n",
              "      fill: #D2E3FC;\n",
              "    }\n",
              "\n",
              "    [theme=dark] .colab-df-convert:hover {\n",
              "      background-color: #434B5C;\n",
              "      box-shadow: 0px 1px 3px 1px rgba(0, 0, 0, 0.15);\n",
              "      filter: drop-shadow(0px 1px 2px rgba(0, 0, 0, 0.3));\n",
              "      fill: #FFFFFF;\n",
              "    }\n",
              "  </style>\n",
              "\n",
              "    <script>\n",
              "      const buttonEl =\n",
              "        document.querySelector('#df-858a7c02-3ee1-47f7-be24-08a92ea23c47 button.colab-df-convert');\n",
              "      buttonEl.style.display =\n",
              "        google.colab.kernel.accessAllowed ? 'block' : 'none';\n",
              "\n",
              "      async function convertToInteractive(key) {\n",
              "        const element = document.querySelector('#df-858a7c02-3ee1-47f7-be24-08a92ea23c47');\n",
              "        const dataTable =\n",
              "          await google.colab.kernel.invokeFunction('convertToInteractive',\n",
              "                                                    [key], {});\n",
              "        if (!dataTable) return;\n",
              "\n",
              "        const docLinkHtml = 'Like what you see? Visit the ' +\n",
              "          '<a target=\"_blank\" href=https://colab.research.google.com/notebooks/data_table.ipynb>data table notebook</a>'\n",
              "          + ' to learn more about interactive tables.';\n",
              "        element.innerHTML = '';\n",
              "        dataTable['output_type'] = 'display_data';\n",
              "        await google.colab.output.renderOutput(dataTable, element);\n",
              "        const docLink = document.createElement('div');\n",
              "        docLink.innerHTML = docLinkHtml;\n",
              "        element.appendChild(docLink);\n",
              "      }\n",
              "    </script>\n",
              "  </div>\n",
              "\n",
              "\n",
              "    <div id=\"df-281ee322-f27a-494f-964d-132b48454eb3\">\n",
              "      <button class=\"colab-df-quickchart\" onclick=\"quickchart('df-281ee322-f27a-494f-964d-132b48454eb3')\"\n",
              "                title=\"Suggest charts\"\n",
              "                style=\"display:none;\">\n",
              "\n",
              "<svg xmlns=\"http://www.w3.org/2000/svg\" height=\"24px\"viewBox=\"0 0 24 24\"\n",
              "     width=\"24px\">\n",
              "    <g>\n",
              "        <path d=\"M19 3H5c-1.1 0-2 .9-2 2v14c0 1.1.9 2 2 2h14c1.1 0 2-.9 2-2V5c0-1.1-.9-2-2-2zM9 17H7v-7h2v7zm4 0h-2V7h2v10zm4 0h-2v-4h2v4z\"/>\n",
              "    </g>\n",
              "</svg>\n",
              "      </button>\n",
              "\n",
              "<style>\n",
              "  .colab-df-quickchart {\n",
              "      --bg-color: #E8F0FE;\n",
              "      --fill-color: #1967D2;\n",
              "      --hover-bg-color: #E2EBFA;\n",
              "      --hover-fill-color: #174EA6;\n",
              "      --disabled-fill-color: #AAA;\n",
              "      --disabled-bg-color: #DDD;\n",
              "  }\n",
              "\n",
              "  [theme=dark] .colab-df-quickchart {\n",
              "      --bg-color: #3B4455;\n",
              "      --fill-color: #D2E3FC;\n",
              "      --hover-bg-color: #434B5C;\n",
              "      --hover-fill-color: #FFFFFF;\n",
              "      --disabled-bg-color: #3B4455;\n",
              "      --disabled-fill-color: #666;\n",
              "  }\n",
              "\n",
              "  .colab-df-quickchart {\n",
              "    background-color: var(--bg-color);\n",
              "    border: none;\n",
              "    border-radius: 50%;\n",
              "    cursor: pointer;\n",
              "    display: none;\n",
              "    fill: var(--fill-color);\n",
              "    height: 32px;\n",
              "    padding: 0;\n",
              "    width: 32px;\n",
              "  }\n",
              "\n",
              "  .colab-df-quickchart:hover {\n",
              "    background-color: var(--hover-bg-color);\n",
              "    box-shadow: 0 1px 2px rgba(60, 64, 67, 0.3), 0 1px 3px 1px rgba(60, 64, 67, 0.15);\n",
              "    fill: var(--button-hover-fill-color);\n",
              "  }\n",
              "\n",
              "  .colab-df-quickchart-complete:disabled,\n",
              "  .colab-df-quickchart-complete:disabled:hover {\n",
              "    background-color: var(--disabled-bg-color);\n",
              "    fill: var(--disabled-fill-color);\n",
              "    box-shadow: none;\n",
              "  }\n",
              "\n",
              "  .colab-df-spinner {\n",
              "    border: 2px solid var(--fill-color);\n",
              "    border-color: transparent;\n",
              "    border-bottom-color: var(--fill-color);\n",
              "    animation:\n",
              "      spin 1s steps(1) infinite;\n",
              "  }\n",
              "\n",
              "  @keyframes spin {\n",
              "    0% {\n",
              "      border-color: transparent;\n",
              "      border-bottom-color: var(--fill-color);\n",
              "      border-left-color: var(--fill-color);\n",
              "    }\n",
              "    20% {\n",
              "      border-color: transparent;\n",
              "      border-left-color: var(--fill-color);\n",
              "      border-top-color: var(--fill-color);\n",
              "    }\n",
              "    30% {\n",
              "      border-color: transparent;\n",
              "      border-left-color: var(--fill-color);\n",
              "      border-top-color: var(--fill-color);\n",
              "      border-right-color: var(--fill-color);\n",
              "    }\n",
              "    40% {\n",
              "      border-color: transparent;\n",
              "      border-right-color: var(--fill-color);\n",
              "      border-top-color: var(--fill-color);\n",
              "    }\n",
              "    60% {\n",
              "      border-color: transparent;\n",
              "      border-right-color: var(--fill-color);\n",
              "    }\n",
              "    80% {\n",
              "      border-color: transparent;\n",
              "      border-right-color: var(--fill-color);\n",
              "      border-bottom-color: var(--fill-color);\n",
              "    }\n",
              "    90% {\n",
              "      border-color: transparent;\n",
              "      border-bottom-color: var(--fill-color);\n",
              "    }\n",
              "  }\n",
              "</style>\n",
              "\n",
              "      <script>\n",
              "        async function quickchart(key) {\n",
              "          const quickchartButtonEl =\n",
              "            document.querySelector('#' + key + ' button');\n",
              "          quickchartButtonEl.disabled = true;  // To prevent multiple clicks.\n",
              "          quickchartButtonEl.classList.add('colab-df-spinner');\n",
              "          try {\n",
              "            const charts = await google.colab.kernel.invokeFunction(\n",
              "                'suggestCharts', [key], {});\n",
              "          } catch (error) {\n",
              "            console.error('Error during call to suggestCharts:', error);\n",
              "          }\n",
              "          quickchartButtonEl.classList.remove('colab-df-spinner');\n",
              "          quickchartButtonEl.classList.add('colab-df-quickchart-complete');\n",
              "        }\n",
              "        (() => {\n",
              "          let quickchartButtonEl =\n",
              "            document.querySelector('#df-281ee322-f27a-494f-964d-132b48454eb3 button');\n",
              "          quickchartButtonEl.style.display =\n",
              "            google.colab.kernel.accessAllowed ? 'block' : 'none';\n",
              "        })();\n",
              "      </script>\n",
              "    </div>\n",
              "\n",
              "  <div id=\"id_2ecd8c72-0886-42a4-9913-c7a6994f5f4a\">\n",
              "    <style>\n",
              "      .colab-df-generate {\n",
              "        background-color: #E8F0FE;\n",
              "        border: none;\n",
              "        border-radius: 50%;\n",
              "        cursor: pointer;\n",
              "        display: none;\n",
              "        fill: #1967D2;\n",
              "        height: 32px;\n",
              "        padding: 0 0 0 0;\n",
              "        width: 32px;\n",
              "      }\n",
              "\n",
              "      .colab-df-generate:hover {\n",
              "        background-color: #E2EBFA;\n",
              "        box-shadow: 0px 1px 2px rgba(60, 64, 67, 0.3), 0px 1px 3px 1px rgba(60, 64, 67, 0.15);\n",
              "        fill: #174EA6;\n",
              "      }\n",
              "\n",
              "      [theme=dark] .colab-df-generate {\n",
              "        background-color: #3B4455;\n",
              "        fill: #D2E3FC;\n",
              "      }\n",
              "\n",
              "      [theme=dark] .colab-df-generate:hover {\n",
              "        background-color: #434B5C;\n",
              "        box-shadow: 0px 1px 3px 1px rgba(0, 0, 0, 0.15);\n",
              "        filter: drop-shadow(0px 1px 2px rgba(0, 0, 0, 0.3));\n",
              "        fill: #FFFFFF;\n",
              "      }\n",
              "    </style>\n",
              "    <button class=\"colab-df-generate\" onclick=\"generateWithVariable('shap_df_filtered')\"\n",
              "            title=\"Generate code using this dataframe.\"\n",
              "            style=\"display:none;\">\n",
              "\n",
              "  <svg xmlns=\"http://www.w3.org/2000/svg\" height=\"24px\"viewBox=\"0 0 24 24\"\n",
              "       width=\"24px\">\n",
              "    <path d=\"M7,19H8.4L18.45,9,17,7.55,7,17.6ZM5,21V16.75L18.45,3.32a2,2,0,0,1,2.83,0l1.4,1.43a1.91,1.91,0,0,1,.58,1.4,1.91,1.91,0,0,1-.58,1.4L9.25,21ZM18.45,9,17,7.55Zm-12,3A5.31,5.31,0,0,0,4.9,8.1,5.31,5.31,0,0,0,1,6.5,5.31,5.31,0,0,0,4.9,4.9,5.31,5.31,0,0,0,6.5,1,5.31,5.31,0,0,0,8.1,4.9,5.31,5.31,0,0,0,12,6.5,5.46,5.46,0,0,0,6.5,12Z\"/>\n",
              "  </svg>\n",
              "    </button>\n",
              "    <script>\n",
              "      (() => {\n",
              "      const buttonEl =\n",
              "        document.querySelector('#id_2ecd8c72-0886-42a4-9913-c7a6994f5f4a button.colab-df-generate');\n",
              "      buttonEl.style.display =\n",
              "        google.colab.kernel.accessAllowed ? 'block' : 'none';\n",
              "\n",
              "      buttonEl.onclick = () => {\n",
              "        google.colab.notebook.generateWithVariable('shap_df_filtered');\n",
              "      }\n",
              "      })();\n",
              "    </script>\n",
              "  </div>\n",
              "\n",
              "    </div>\n",
              "  </div>\n"
            ],
            "application/vnd.google.colaboratory.intrinsic+json": {
              "type": "dataframe",
              "variable_name": "shap_df_filtered",
              "summary": "{\n  \"name\": \"shap_df_filtered\",\n  \"rows\": 329,\n  \"fields\": [\n    {\n      \"column\": \"tenure\",\n      \"properties\": {\n        \"dtype\": \"date\",\n        \"min\": -0.5351043119420795,\n        \"max\": -0.5351043119420795,\n        \"num_unique_values\": 1,\n        \"samples\": [\n          -0.5351043119420795\n        ],\n        \"semantic_type\": \"\",\n        \"description\": \"\"\n      }\n    },\n    {\n      \"column\": \"MonthlyCharges\",\n      \"properties\": {\n        \"dtype\": \"date\",\n        \"min\": 8.430982876690592,\n        \"max\": 44.774584548606136,\n        \"num_unique_values\": 250,\n        \"samples\": [\n          32.82031508706807\n        ],\n        \"semantic_type\": \"\",\n        \"description\": \"\"\n      }\n    },\n    {\n      \"column\": \"TotalCharges\",\n      \"properties\": {\n        \"dtype\": \"date\",\n        \"min\": 0.0,\n        \"max\": 0.0,\n        \"num_unique_values\": 1,\n        \"samples\": [\n          0.0\n        ],\n        \"semantic_type\": \"\",\n        \"description\": \"\"\n      }\n    },\n    {\n      \"column\": \"Partner_Yes\",\n      \"properties\": {\n        \"dtype\": \"date\",\n        \"min\": 0.0,\n        \"max\": 0.0,\n        \"num_unique_values\": 1,\n        \"samples\": [\n          0.0\n        ],\n        \"semantic_type\": \"\",\n        \"description\": \"\"\n      }\n    },\n    {\n      \"column\": \"Dependents_Yes\",\n      \"properties\": {\n        \"dtype\": \"date\",\n        \"min\": -0.057273392248741055,\n        \"max\": -0.005975099090270795,\n        \"num_unique_values\": 2,\n        \"samples\": [\n          -0.057273392248741055\n        ],\n        \"semantic_type\": \"\",\n        \"description\": \"\"\n      }\n    },\n    {\n      \"column\": \"OnlineSecurity_No internet service\",\n      \"properties\": {\n        \"dtype\": \"date\",\n        \"min\": -0.03676040758877785,\n        \"max\": 0.003819891883872705,\n        \"num_unique_values\": 2,\n        \"samples\": [\n          -0.03676040758877785\n        ],\n        \"semantic_type\": \"\",\n        \"description\": \"\"\n      }\n    },\n    {\n      \"column\": \"OnlineSecurity_Yes\",\n      \"properties\": {\n        \"dtype\": \"date\",\n        \"min\": -0.15069620281188192,\n        \"max\": 0.0010437101007457034,\n        \"num_unique_values\": 2,\n        \"samples\": [\n          -0.15069620281188192\n        ],\n        \"semantic_type\": \"\",\n        \"description\": \"\"\n      }\n    },\n    {\n      \"column\": \"OnlineBackup_No internet service\",\n      \"properties\": {\n        \"dtype\": \"date\",\n        \"min\": -0.0,\n        \"max\": -0.0,\n        \"num_unique_values\": 1,\n        \"samples\": [\n          -0.0\n        ],\n        \"semantic_type\": \"\",\n        \"description\": \"\"\n      }\n    },\n    {\n      \"column\": \"OnlineBackup_Yes\",\n      \"properties\": {\n        \"dtype\": \"date\",\n        \"min\": 0.0,\n        \"max\": 0.0,\n        \"num_unique_values\": 1,\n        \"samples\": [\n          0.0\n        ],\n        \"semantic_type\": \"\",\n        \"description\": \"\"\n      }\n    },\n    {\n      \"column\": \"DeviceProtection_No internet service\",\n      \"properties\": {\n        \"dtype\": \"date\",\n        \"min\": -0.12036791487708844,\n        \"max\": 0.012507816188034742,\n        \"num_unique_values\": 2,\n        \"samples\": [\n          -0.12036791487708844\n        ],\n        \"semantic_type\": \"\",\n        \"description\": \"\"\n      }\n    },\n    {\n      \"column\": \"DeviceProtection_Yes\",\n      \"properties\": {\n        \"dtype\": \"date\",\n        \"min\": 0.0,\n        \"max\": 0.0,\n        \"num_unique_values\": 1,\n        \"samples\": [\n          0.0\n        ],\n        \"semantic_type\": \"\",\n        \"description\": \"\"\n      }\n    },\n    {\n      \"column\": \"TechSupport_No internet service\",\n      \"properties\": {\n        \"dtype\": \"date\",\n        \"min\": -0.0,\n        \"max\": -0.0,\n        \"num_unique_values\": 1,\n        \"samples\": [\n          -0.0\n        ],\n        \"semantic_type\": \"\",\n        \"description\": \"\"\n      }\n    },\n    {\n      \"column\": \"TechSupport_Yes\",\n      \"properties\": {\n        \"dtype\": \"date\",\n        \"min\": -0.1496374313263589,\n        \"max\": -0.017323906891162266,\n        \"num_unique_values\": 2,\n        \"samples\": [\n          -0.1496374313263589\n        ],\n        \"semantic_type\": \"\",\n        \"description\": \"\"\n      }\n    },\n    {\n      \"column\": \"Contract_One year\",\n      \"properties\": {\n        \"dtype\": \"date\",\n        \"min\": -0.014494034019446106,\n        \"max\": -0.014494034019446106,\n        \"num_unique_values\": 1,\n        \"samples\": [\n          -0.014494034019446106\n        ],\n        \"semantic_type\": \"\",\n        \"description\": \"\"\n      }\n    },\n    {\n      \"column\": \"Contract_Two year\",\n      \"properties\": {\n        \"dtype\": \"date\",\n        \"min\": 0.017313742492167876,\n        \"max\": 0.017313742492167876,\n        \"num_unique_values\": 1,\n        \"samples\": [\n          0.017313742492167876\n        ],\n        \"semantic_type\": \"\",\n        \"description\": \"\"\n      }\n    },\n    {\n      \"column\": \"PaperlessBilling_Yes\",\n      \"properties\": {\n        \"dtype\": \"date\",\n        \"min\": -0.00017691414069456816,\n        \"max\": 0.07786187655664555,\n        \"num_unique_values\": 2,\n        \"samples\": [\n          -0.00017691414069456816\n        ],\n        \"semantic_type\": \"\",\n        \"description\": \"\"\n      }\n    },\n    {\n      \"column\": \"PaymentMethod_Credit card (automatic)\",\n      \"properties\": {\n        \"dtype\": \"date\",\n        \"min\": -0.0,\n        \"max\": -0.0,\n        \"num_unique_values\": 1,\n        \"samples\": [\n          -0.0\n        ],\n        \"semantic_type\": \"\",\n        \"description\": \"\"\n      }\n    },\n    {\n      \"column\": \"PaymentMethod_Electronic check\",\n      \"properties\": {\n        \"dtype\": \"date\",\n        \"min\": 0.0028757714098111785,\n        \"max\": 0.17774614723554732,\n        \"num_unique_values\": 2,\n        \"samples\": [\n          0.0028757714098111785\n        ],\n        \"semantic_type\": \"\",\n        \"description\": \"\"\n      }\n    },\n    {\n      \"column\": \"PaymentMethod_Mailed check\",\n      \"properties\": {\n        \"dtype\": \"date\",\n        \"min\": 0.0,\n        \"max\": 0.0,\n        \"num_unique_values\": 1,\n        \"samples\": [\n          0.0\n        ],\n        \"semantic_type\": \"\",\n        \"description\": \"\"\n      }\n    }\n  ]\n}"
            }
          },
          "metadata": {},
          "execution_count": 229
        }
      ]
    },
    {
      "cell_type": "code",
      "source": [
        "# Find top feature per row\n",
        "top_features = shap_df_filtered.abs().idxmax(axis=1)\n",
        "\n",
        "# Count how many times each feature is top\n",
        "feature_counts = top_features.value_counts(normalize=True) * 100\n",
        "print(feature_counts)\n",
        "\n",
        "# Apply >50% rule\n",
        "if feature_counts.iloc[0] > 50:\n",
        "    print(f\"{feature_counts.index[0]} is the main reason for churn in this subset.\")\n",
        "\n",
        "top_features.unique()\n"
      ],
      "metadata": {
        "colab": {
          "base_uri": "https://localhost:8080/"
        },
        "id": "D6Kmt44Id6A6",
        "outputId": "f0e7bec0-dc94-40e6-eb38-3837ccb8e1d9"
      },
      "execution_count": 233,
      "outputs": [
        {
          "output_type": "stream",
          "name": "stdout",
          "text": [
            "MonthlyCharges    100.0\n",
            "Name: proportion, dtype: float64\n",
            "MonthlyCharges is the main reason for churn in this subset.\n"
          ]
        },
        {
          "output_type": "execute_result",
          "data": {
            "text/plain": [
              "array(['MonthlyCharges'], dtype=object)"
            ]
          },
          "metadata": {},
          "execution_count": 233
        }
      ]
    },
    {
      "cell_type": "markdown",
      "source": [
        "For customers who actually churned, what pushed the model to predict churn?\n",
        "Ans: Monthly charges is the main reason behind such churn.\n",
        "\n",
        "In the similar manner, we can perform interpretation for other features and and goals as well."
      ],
      "metadata": {
        "id": "u1-n12NVeV2Z"
      }
    },
    {
      "cell_type": "code",
      "source": [],
      "metadata": {
        "id": "TIMmBYFYeVCR"
      },
      "execution_count": null,
      "outputs": []
    }
  ]
}